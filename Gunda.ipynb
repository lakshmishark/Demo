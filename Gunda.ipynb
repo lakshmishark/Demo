{
    "cells": [
        {
            "cell_type": "code",
            "execution_count": 1,
            "metadata": {},
            "outputs": [],
            "source": "A=25"
        },
        {
            "cell_type": "code",
            "execution_count": 2,
            "metadata": {},
            "outputs": [],
            "source": "B=45"
        },
        {
            "cell_type": "code",
            "execution_count": 4,
            "metadata": {},
            "outputs": [
                {
                    "data": {
                        "text/plain": "70"
                    },
                    "execution_count": 4,
                    "metadata": {},
                    "output_type": "execute_result"
                }
            ],
            "source": "A+B"
        },
        {
            "cell_type": "code",
            "execution_count": 6,
            "metadata": {},
            "outputs": [],
            "source": "Name=\"Niya\"\nAttribute=\" is a beautiful girl\""
        },
        {
            "cell_type": "code",
            "execution_count": 7,
            "metadata": {},
            "outputs": [
                {
                    "name": "stdout",
                    "output_type": "stream",
                    "text": "Niya is a beautiful girl\n"
                }
            ],
            "source": "print(Name+Attribute)"
        },
        {
            "cell_type": "markdown",
            "metadata": {},
            "source": "<a href=https://www.cognitiveclass.ai>Cognitive Class</a"
        },
        {
            "cell_type": "markdown",
            "metadata": {},
            "source": "| Sl.No   | Description|Qty|\n---|----------|---\n1|table|1\n2|chair|2\n3|cot|2\n4|bed|2\n|Total = 7|"
        },
        {
            "cell_type": "code",
            "execution_count": null,
            "metadata": {},
            "outputs": [],
            "source": ""
        },
        {
            "cell_type": "markdown",
            "metadata": {},
            "source": "  * Niya's List  \n1. Cheese Sticks \n2. Comic book- baby sitters club    \n  * Lakshmisha  \n3. Laptop  \n          3.1 Laptop bag"
        },
        {
            "cell_type": "code",
            "execution_count": null,
            "metadata": {},
            "outputs": [],
            "source": ""
        },
        {
            "cell_type": "markdown",
            "metadata": {},
            "source": "Angela-Merkel\n![Angel](Images/Angela-Merkel.jpg)"
        },
        {
            "cell_type": "code",
            "execution_count": null,
            "metadata": {},
            "outputs": [],
            "source": ""
        }
    ],
    "metadata": {
        "kernelspec": {
            "display_name": "Python 3.6",
            "language": "python",
            "name": "python3"
        },
        "language_info": {
            "codemirror_mode": {
                "name": "ipython",
                "version": 3
            },
            "file_extension": ".py",
            "mimetype": "text/x-python",
            "name": "python",
            "nbconvert_exporter": "python",
            "pygments_lexer": "ipython3",
            "version": "3.6.9"
        }
    },
    "nbformat": 4,
    "nbformat_minor": 4
}